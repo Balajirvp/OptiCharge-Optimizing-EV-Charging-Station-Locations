{
 "cells": [
  {
   "cell_type": "code",
   "execution_count": null,
   "id": "0935f025",
   "metadata": {},
   "outputs": [],
   "source": [
    "import requests\n",
    "import pandas as pd"
   ]
  },
  {
   "cell_type": "code",
   "execution_count": null,
   "id": "b691886d",
   "metadata": {},
   "outputs": [],
   "source": [
    "# Set your TomTom API key\n",
    "api_key = \"WkxqMsFdBKGYXors3kqAZdPmuOvrAgtt\"\n",
    "\n",
    "# Define the center coordinates of Dublin\n",
    "dublin_latitude = 53.3498006\n",
    "dublin_longitude = -6.2602964\n",
    "\n",
    "# Set the search radius in kilometers\n",
    "search_radius = 20\n",
    "\n",
    "# # Set the search tags for residential and park areas\n",
    "# search_tags = \"cottage\"\n",
    "\n",
    "# # Set the API endpoint for POI search\n",
    "# endpoint = f\"https://api.tomtom.com/search/2/poiSearch/{search_tags}.json\"\n",
    "endpoint = \"https://api.tomtom.com/search/2/nearbySearch/.json\"\n",
    "\n",
    "# Set the maximum number of results to retrieve per API call\n",
    "limit = 10\n",
    "\n",
    "# Initialize the list to store all results\n",
    "arr = []\n",
    "\n",
    "# Variable to track the offset\n",
    "offset = 0\n",
    "\n",
    "# Loop until all results are retrieved\n",
    "while True:\n",
    "    # Send GET request to the API\n",
    "    response = requests.get(endpoint, params={\n",
    "        \"key\": api_key,\n",
    "        \"lat\": dublin_latitude,\n",
    "        \"lon\": dublin_longitude,\n",
    "        \"radius\": search_radius * 1000,  # Convert to meters\n",
    "        \"limit\": limit,  # Set the maximum number of results to retrieve\n",
    "        \"ofs\": offset  # Set the offset to retrieve subsequent results\n",
    "    })\n",
    "\n",
    "    # Check if the request was successful\n",
    "    if response.status_code == 200:\n",
    "        # Extract the results from the response\n",
    "        data = response.json()\n",
    "        results = data.get(\"results\", [])\n",
    "\n",
    "\n",
    "        # Break the loop if no more results are available\n",
    "        if len(results) == 0:\n",
    "            break\n",
    "\n",
    "        # Iterate over the results and add them to the list\n",
    "        for result in results:\n",
    "            name = result[\"poi\"][\"name\"]\n",
    "            address = result[\"address\"][\"freeformAddress\"]\n",
    "            arr.append([name, address])\n",
    "\n",
    "        # Increment the offset to retrieve the next set of results\n",
    "        offset += limit\n",
    "\n",
    "    else:\n",
    "        print(\"An error occurred during the API request.\")\n",
    "        break\n",
    "\n",
    "# Print the total number of results retrieved\n",
    "print(f\"Total results: {len(arr)}\")"
   ]
  }
 ],
 "metadata": {
  "kernelspec": {
   "display_name": "Python 3 (ipykernel)",
   "language": "python",
   "name": "python3"
  },
  "language_info": {
   "codemirror_mode": {
    "name": "ipython",
    "version": 3
   },
   "file_extension": ".py",
   "mimetype": "text/x-python",
   "name": "python",
   "nbconvert_exporter": "python",
   "pygments_lexer": "ipython3",
   "version": "3.9.15"
  }
 },
 "nbformat": 4,
 "nbformat_minor": 5
}
