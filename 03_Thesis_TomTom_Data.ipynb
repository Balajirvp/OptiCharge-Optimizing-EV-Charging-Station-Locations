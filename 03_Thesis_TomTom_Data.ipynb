{
 "cells": [
  {
   "cell_type": "code",
   "execution_count": 1,
   "id": "0935f025",
   "metadata": {},
   "outputs": [],
   "source": [
    "import requests\n",
    "import pandas as pd"
   ]
  },
  {
   "cell_type": "code",
   "execution_count": null,
   "id": "b691886d",
   "metadata": {},
   "outputs": [],
   "source": [
    "# # Set your TomTom API key\n",
    "# api_key = \"WkxqMsFdBKGYXors3kqAZdPmuOvrAgtt\"\n",
    "\n",
    "# # Define the center coordinates of Dublin\n",
    "# dublin_latitude = 53.3498006\n",
    "# dublin_longitude = -6.2602964\n",
    "\n",
    "# # Set the search radius in kilometers\n",
    "# search_radius = 20\n",
    "\n",
    "# # # Set the search tags for residential and park areas\n",
    "# # search_tags = \"cottage\"\n",
    "\n",
    "# # # Set the API endpoint for POI search\n",
    "# # endpoint = f\"https://api.tomtom.com/search/2/poiSearch/{search_tags}.json\"\n",
    "# endpoint = \"https://api.tomtom.com/search/2/nearbySearch/.json\"\n",
    "\n",
    "# # Set the maximum number of results to retrieve per API call\n",
    "# limit = 10\n",
    "\n",
    "# # Initialize the list to store all results\n",
    "# arr = []\n",
    "\n",
    "# # Variable to track the offset\n",
    "# offset = 0\n",
    "\n",
    "# # Loop until all results are retrieved\n",
    "# while True:\n",
    "#     # Send GET request to the API\n",
    "#     response = requests.get(endpoint, params={\n",
    "#         \"key\": api_key,\n",
    "#         \"lat\": dublin_latitude,\n",
    "#         \"lon\": dublin_longitude,\n",
    "#         \"radius\": search_radius * 1000,  # Convert to meters\n",
    "#         \"limit\": limit,  # Set the maximum number of results to retrieve\n",
    "#         \"ofs\": offset  # Set the offset to retrieve subsequent results\n",
    "#     })\n",
    "\n",
    "#     # Check if the request was successful\n",
    "#     if response.status_code == 200:\n",
    "#         # Extract the results from the response\n",
    "#         data = response.json()\n",
    "#         results = data.get(\"results\", [])\n",
    "\n",
    "\n",
    "#         # Break the loop if no more results are available\n",
    "#         if len(results) == 0:\n",
    "#             break\n",
    "\n",
    "#         # Iterate over the results and add them to the list\n",
    "#         for result in results:\n",
    "#             name = result[\"poi\"][\"name\"]\n",
    "#             address = result[\"address\"][\"freeformAddress\"]\n",
    "#             arr.append([name, address])\n",
    "\n",
    "#         # Increment the offset to retrieve the next set of results\n",
    "#         offset += limit\n",
    "\n",
    "#     else:\n",
    "#         print(\"An error occurred during the API request.\")\n",
    "#         break\n",
    "\n",
    "# # Print the total number of results retrieved\n",
    "# print(f\"Total results: {len(arr)}\")"
   ]
  },
  {
   "cell_type": "code",
   "execution_count": 76,
   "id": "01ece322",
   "metadata": {},
   "outputs": [],
   "source": [
    "# Construct the API endpoint URL\n",
    "url = \"https://api.tomtom.com/traffic/services/4/flowSegmentData/absolute/10/json?key=WkxqMsFdBKGYXors3kqAZdPmuOvrAgtt&point=53.349805,-6.26031&zoom=25\"\n",
    "\n",
    "# Send the GET request\n",
    "response = requests.get(url)\n",
    "\n",
    "# Check the response status code\n",
    "if response.status_code == 200:\n",
    "    data = response.json()\n",
    "else:\n",
    "    print(f\"Request failed. Status code: {response.status_code}\")"
   ]
  },
  {
   "cell_type": "code",
   "execution_count": 77,
   "id": "1ca53c52",
   "metadata": {
    "scrolled": false
   },
   "outputs": [
    {
     "data": {
      "text/plain": [
       "{'flowSegmentData': {'frc': 'FRC1',\n",
       "  'currentSpeed': 14,\n",
       "  'freeFlowSpeed': 28,\n",
       "  'currentTravelTime': 63,\n",
       "  'freeFlowTravelTime': 31,\n",
       "  'confidence': 1,\n",
       "  'roadClosure': False,\n",
       "  'coordinates': {'coordinate': [{'latitude': 53.34959601530095,\n",
       "     'longitude': -6.261704684315049},\n",
       "    {'latitude': 53.34976974958549, 'longitude': -6.261773673111378},\n",
       "    {'latitude': 53.34981075768924, 'longitude': -6.261791537363081},\n",
       "    {'latitude': 53.349900963830535, 'longitude': -6.26183194760776},\n",
       "    {'latitude': 53.349970023585485, 'longitude': -6.261861908736819},\n",
       "    {'latitude': 53.35002311229518, 'longitude': -6.261886181505702},\n",
       "    {'latitude': 53.350077757069634, 'longitude': -6.261908373956061},\n",
       "    {'latitude': 53.350120815019636, 'longitude': -6.261925798640931},\n",
       "    {'latitude': 53.35049227170629, 'longitude': -6.262098802152849},\n",
       "    {'latitude': 53.3506806453434, 'longitude': -6.262192306624257},\n",
       "    {'latitude': 53.350903028286986, 'longitude': -6.262291145711487},\n",
       "    {'latitude': 53.35126725723877, 'longitude': -6.262443477004609},\n",
       "    {'latitude': 53.351730230360204, 'longitude': -6.262625417633359}]},\n",
       "  '@version': 'traffic-service-flow 1.0.088'}}"
      ]
     },
     "execution_count": 77,
     "metadata": {},
     "output_type": "execute_result"
    }
   ],
   "source": [
    "data"
   ]
  },
  {
   "cell_type": "code",
   "execution_count": 54,
   "id": "0d535211",
   "metadata": {},
   "outputs": [
    {
     "name": "stdout",
     "output_type": "stream",
     "text": [
      "Request failed. Status code: 403\n"
     ]
    }
   ],
   "source": [
    "# def get_major_roads(center_latitude, center_longitude, radius_km, api_key):\n",
    "#     url = f\"https://api.tomtom.com/search/2/aroundRoads/.{radius_km}/{center_latitude},{center_longitude}.json?key={api_key}\"\n",
    "#     response = requests.get(url)\n",
    "    \n",
    "#     if response.status_code == 200:\n",
    "#         data = response.json()\n",
    "#         roads = data['results']\n",
    "#         return roads\n",
    "#     else:\n",
    "#         print(f\"Request failed. Status code: {response.status_code}\")\n",
    "#         return None\n",
    "    \n",
    "# api_key = \"WkxqMsFdBKGYXors3kqAZdPmuOvrAgtt\"\n",
    "\n",
    "# # Define the center coordinates of Dublin\n",
    "# dublin_latitude = 53.3498006\n",
    "# dublin_longitude = -6.2602964\n",
    "# radius_km = 25\n",
    "\n",
    "# get_major_roads(dublin_latitude, dublin_longitude, radius_km, api_key)"
   ]
  },
  {
   "cell_type": "raw",
   "id": "79b0b486",
   "metadata": {},
   "source": [
    "[out:json];\n",
    "way[\"highway\"](around:20000, 53.349805, -6.26031);\n",
    "out center;"
   ]
  },
  {
   "cell_type": "code",
   "execution_count": 69,
   "id": "14f7e1e7",
   "metadata": {},
   "outputs": [],
   "source": [
    "# import osmnx as ox\n",
    "# import pandas as pd\n",
    "\n",
    "# # Load the OSM data from the file\n",
    "# file_path = './roads.json'\n",
    "# graph = ox.graph_from_file(file_path, bidirectional=False, simplify=False)\n",
    "\n",
    "# # Convert the graph to a DataFrame\n",
    "# df = ox.graph_to_gdfs(graph, nodes=False, edges=True)\n",
    "\n",
    "# df.head()"
   ]
  },
  {
   "cell_type": "code",
   "execution_count": 70,
   "id": "0a1aa00c",
   "metadata": {},
   "outputs": [
    {
     "ename": "KeyboardInterrupt",
     "evalue": "",
     "output_type": "error",
     "traceback": [
      "\u001b[1;31m--------------------\u001b[0m",
      "\u001b[1;31mKeyboardInterrupt\u001b[0mTraceback (most recent call last)",
      "Cell \u001b[1;32mIn[70], line 6\u001b[0m\n\u001b[0;32m      4\u001b[0m \u001b[38;5;66;03m# Load the GeoJSON file as a Dask DataFrame\u001b[39;00m\n\u001b[0;32m      5\u001b[0m file_path \u001b[38;5;241m=\u001b[39m \u001b[38;5;124m'\u001b[39m\u001b[38;5;124m./roads.geojson\u001b[39m\u001b[38;5;124m'\u001b[39m\n\u001b[1;32m----> 6\u001b[0m ddf \u001b[38;5;241m=\u001b[39m \u001b[43mdask_gpd\u001b[49m\u001b[38;5;241;43m.\u001b[39;49m\u001b[43mread_file\u001b[49m\u001b[43m(\u001b[49m\u001b[43mfile_path\u001b[49m\u001b[43m,\u001b[49m\u001b[43m \u001b[49m\u001b[43mchunksize\u001b[49m\u001b[38;5;241;43m=\u001b[39;49m\u001b[38;5;241;43m10000\u001b[39;49m\u001b[43m)\u001b[49m\n\u001b[0;32m      8\u001b[0m \u001b[38;5;66;03m# Convert the Dask DataFrame to a Pandas DataFrame\u001b[39;00m\n\u001b[0;32m      9\u001b[0m df \u001b[38;5;241m=\u001b[39m ddf\u001b[38;5;241m.\u001b[39mcompute()\n",
      "File \u001b[1;32m~\\anaconda3\\lib\\site-packages\\dask_geopandas\\io\\file.py:103\u001b[0m, in \u001b[0;36mread_file\u001b[1;34m(path, npartitions, chunksize, layer, columns, **kwargs)\u001b[0m\n\u001b[0;32m    100\u001b[0m \u001b[38;5;28;01mif\u001b[39;00m kwargs:\n\u001b[0;32m    101\u001b[0m     \u001b[38;5;28;01mraise\u001b[39;00m \u001b[38;5;167;01mValueError\u001b[39;00m(\u001b[38;5;124m\"\u001b[39m\u001b[38;5;124mAdditional pyogrio keywords are not yet supported\u001b[39m\u001b[38;5;124m\"\u001b[39m)\n\u001b[1;32m--> 103\u001b[0m total_size \u001b[38;5;241m=\u001b[39m \u001b[43mpyogrio\u001b[49m\u001b[38;5;241;43m.\u001b[39;49m\u001b[43mread_info\u001b[49m\u001b[43m(\u001b[49m\u001b[43mpath\u001b[49m\u001b[43m,\u001b[49m\u001b[43m \u001b[49m\u001b[43mlayer\u001b[49m\u001b[38;5;241;43m=\u001b[39;49m\u001b[43mlayer\u001b[49m\u001b[43m)\u001b[49m[\u001b[38;5;124m\"\u001b[39m\u001b[38;5;124mfeatures\u001b[39m\u001b[38;5;124m\"\u001b[39m]\n\u001b[0;32m    105\u001b[0m \u001b[38;5;28;01mif\u001b[39;00m chunksize \u001b[38;5;129;01mis\u001b[39;00m \u001b[38;5;28;01mNone\u001b[39;00m:\n\u001b[0;32m    106\u001b[0m     chunksize \u001b[38;5;241m=\u001b[39m \u001b[38;5;28mint\u001b[39m(ceil(total_size \u001b[38;5;241m/\u001b[39m npartitions))\n",
      "File \u001b[1;32m~\\anaconda3\\lib\\site-packages\\pyogrio\\core.py:192\u001b[0m, in \u001b[0;36mread_info\u001b[1;34m(path_or_buffer, layer, encoding, **kwargs)\u001b[0m\n\u001b[0;32m    189\u001b[0m dataset_kwargs \u001b[38;5;241m=\u001b[39m _preprocess_options_key_value(kwargs) \u001b[38;5;28;01mif\u001b[39;00m kwargs \u001b[38;5;28;01melse\u001b[39;00m {}\n\u001b[0;32m    191\u001b[0m \u001b[38;5;28;01mtry\u001b[39;00m:\n\u001b[1;32m--> 192\u001b[0m     result \u001b[38;5;241m=\u001b[39m \u001b[43mogr_read_info\u001b[49m\u001b[43m(\u001b[49m\n\u001b[0;32m    193\u001b[0m \u001b[43m        \u001b[49m\u001b[43mpath\u001b[49m\u001b[43m,\u001b[49m\u001b[43m \u001b[49m\u001b[43mlayer\u001b[49m\u001b[38;5;241;43m=\u001b[39;49m\u001b[43mlayer\u001b[49m\u001b[43m,\u001b[49m\u001b[43m \u001b[49m\u001b[43mencoding\u001b[49m\u001b[38;5;241;43m=\u001b[39;49m\u001b[43mencoding\u001b[49m\u001b[43m,\u001b[49m\u001b[43m \u001b[49m\u001b[43mdataset_kwargs\u001b[49m\u001b[38;5;241;43m=\u001b[39;49m\u001b[43mdataset_kwargs\u001b[49m\n\u001b[0;32m    194\u001b[0m \u001b[43m    \u001b[49m\u001b[43m)\u001b[49m\n\u001b[0;32m    195\u001b[0m \u001b[38;5;28;01mfinally\u001b[39;00m:\n\u001b[0;32m    196\u001b[0m     \u001b[38;5;28;01mif\u001b[39;00m buffer \u001b[38;5;129;01mis\u001b[39;00m \u001b[38;5;129;01mnot\u001b[39;00m \u001b[38;5;28;01mNone\u001b[39;00m:\n",
      "\u001b[1;31mKeyboardInterrupt\u001b[0m: "
     ]
    }
   ],
   "source": [
    "import dask_geopandas as dask_gpd\n",
    "import geopandas as gpd\n",
    "\n",
    "# Load the GeoJSON file as a Dask DataFrame\n",
    "file_path = './roads.geojson'\n",
    "ddf = dask_gpd.read_file(file_path, chunksize=10000)\n",
    "\n",
    "# Convert the Dask DataFrame to a Pandas DataFrame\n",
    "df = ddf.compute()\n",
    "\n",
    "# Print the DataFrame\n",
    "df.head()"
   ]
  },
  {
   "cell_type": "code",
   "execution_count": 73,
   "id": "52d301bb",
   "metadata": {},
   "outputs": [],
   "source": [
    "df = df.dropna(axis=1, how='all')\n",
    "\n",
    "# Save the roads data to a CSV file\n",
    "df.to_csv('roads.csv', index=False)"
   ]
  }
 ],
 "metadata": {
  "kernelspec": {
   "display_name": "Python 3 (ipykernel)",
   "language": "python",
   "name": "python3"
  },
  "language_info": {
   "codemirror_mode": {
    "name": "ipython",
    "version": 3
   },
   "file_extension": ".py",
   "mimetype": "text/x-python",
   "name": "python",
   "nbconvert_exporter": "python",
   "pygments_lexer": "ipython3",
   "version": "3.9.15"
  }
 },
 "nbformat": 4,
 "nbformat_minor": 5
}
